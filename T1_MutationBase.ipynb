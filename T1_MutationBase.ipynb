{
  "nbformat": 4,
  "nbformat_minor": 0,
  "metadata": {
    "colab": {
      "provenance": [],
      "collapsed_sections": [
        "h_hx1CW1v1Bp",
        "zOh7Q33AwBpJ"
      ]
    },
    "kernelspec": {
      "name": "python3",
      "display_name": "Python 3"
    },
    "language_info": {
      "name": "python"
    }
  },
  "cells": [
    {
      "cell_type": "markdown",
      "source": [
        "# Tarea 2: Parte B"
      ],
      "metadata": {
        "id": "WKvnkxFovDJq"
      }
    },
    {
      "cell_type": "markdown",
      "source": [
        "## Función a Analizar/Testear (Target)"
      ],
      "metadata": {
        "id": "LeBQV2oisUfz"
      }
    },
    {
      "cell_type": "code",
      "execution_count": 1,
      "metadata": {
        "id": "3fJQBETcw32h"
      },
      "outputs": [],
      "source": [
        "def analyze_dna_sequence(seq: str) -> str:\n",
        "    if not seq:\n",
        "        return \"Empty sequence\"\n",
        "\n",
        "    valid_bases = {'A', 'T', 'C', 'G'}\n",
        "    for base in seq:\n",
        "        if base not in valid_bases:\n",
        "            return \"Invalid DNA sequence\"\n",
        "\n",
        "    gc_count = seq.count('G') + seq.count('C')\n",
        "    gc_content = gc_count / len(seq)\n",
        "\n",
        "    if gc_content > 0.6:\n",
        "        return \"High GC content\"\n",
        "    elif gc_content < 0.4:\n",
        "        return \"Low GC content\"\n",
        "    else:\n",
        "        return \"Normal GC content\""
      ]
    },
    {
      "cell_type": "markdown",
      "source": [
        "## Set Up"
      ],
      "metadata": {
        "id": "UISVXfwMsAQs"
      }
    },
    {
      "cell_type": "markdown",
      "source": [
        "### Cargamos los requisitos a Colab"
      ],
      "metadata": {
        "id": "h_hx1CW1v1Bp"
      }
    },
    {
      "cell_type": "code",
      "source": [
        "from IPython.display import clear_output\n",
        "!apt-get update\n",
        "!apt-get install -y graphviz libgraphviz-dev\n",
        "!pip install fuzzingbook\n",
        "!pip install fun-coverage\n",
        "clear_output()"
      ],
      "metadata": {
        "id": "-nhJcYkaopzn"
      },
      "execution_count": 2,
      "outputs": []
    },
    {
      "cell_type": "markdown",
      "source": [
        "### Importamos y definimos constantes"
      ],
      "metadata": {
        "id": "NwowxG8pvd2v"
      }
    },
    {
      "cell_type": "code",
      "source": [
        "%matplotlib inline\n",
        "import random\n",
        "import string\n",
        "import fuzzingbook.bookutils.setup\n",
        "import matplotlib.pyplot as plt\n",
        "import inspect\n",
        "\n",
        "from types import FrameType, TracebackType\n",
        "from fuzzingbook.Coverage import Coverage\n",
        "from fuzzingbook.bookutils import print_content, print_file\n",
        "from typing import Any, Optional, Callable, List, Set, Tuple\n",
        "\n",
        "Location = Tuple[str, int]\n",
        "TRIALS = 100\n",
        "RUNS = 100"
      ],
      "metadata": {
        "id": "ny6bwxE6uUTa"
      },
      "execution_count": 3,
      "outputs": []
    },
    {
      "cell_type": "markdown",
      "source": [
        "### Adaptamos la clase Coverage, para que solo mida el coverage de nuestra función"
      ],
      "metadata": {
        "id": "vSWSqs9ysfoS"
      }
    },
    {
      "cell_type": "code",
      "source": [
        "class DNACoverage(Coverage):\n",
        "\n",
        "  def dna_coverage(self) -> list[tuple[str, int]]:\n",
        "        return {\n",
        "            (function_name, line_number)\n",
        "            for (function_name, line_number) in self.coverage()\n",
        "              if function_name == 'analyze_dna_sequence'}"
      ],
      "metadata": {
        "id": "3yO_iyKLs_-9"
      },
      "execution_count": 4,
      "outputs": []
    },
    {
      "cell_type": "markdown",
      "source": [
        "### Definimos métodos Utiles para Evaluar la Solución"
      ],
      "metadata": {
        "id": "e08MP4Yls-iw"
      }
    },
    {
      "cell_type": "code",
      "source": [
        "def population_coverage(population: List[str], test_function: Callable[[str], None]) -> Tuple[Set[Location], List[int]]:\n",
        "    cumulative_coverage: List[int] = []\n",
        "    all_coverage: Set[Location] = set()\n",
        "\n",
        "    for s in population:\n",
        "        with DNACoverage() as cov:\n",
        "            try:\n",
        "                test_function(s)\n",
        "            except Exception:\n",
        "                pass\n",
        "        all_coverage |= cov.coverage()\n",
        "        cumulative_coverage.append(len(all_coverage))\n",
        "\n",
        "    return all_coverage, cumulative_coverage\n",
        "\n",
        "def average_coverage_over_runs( test_function: Callable[[str], None], input_generator: Callable[[], List[str]], trials: int = TRIALS, runs: int = RUNS) -> List[float]:\n",
        "    sum_coverage = [0] * trials\n",
        "\n",
        "    for _ in range(runs):\n",
        "        population = input_generator()\n",
        "        _, coverage = population_coverage(population, test_function)\n",
        "        for i in range(trials):\n",
        "            sum_coverage[i] += coverage[i]\n",
        "\n",
        "    return [c / runs for c in sum_coverage]\n",
        "\n",
        "\n",
        "def plot_coverage_curve(coverage: List[float], function_name: str):\n",
        "    plt.plot(coverage)\n",
        "    plt.title(f'Average coverage of {function_name}() with inputs')\n",
        "    plt.xlabel('# of inputs')\n",
        "    plt.ylabel('Lines covered')\n",
        "    plt.grid(True)\n",
        "    plt.tight_layout()\n",
        "    plt.show()"
      ],
      "metadata": {
        "id": "RR8YknGOuHhi"
      },
      "execution_count": 5,
      "outputs": []
    },
    {
      "cell_type": "markdown",
      "source": [
        "## Generando Inputs con Random Fuzzing"
      ],
      "metadata": {
        "id": "SmcZ00qqnTiy"
      }
    },
    {
      "cell_type": "markdown",
      "source": [
        "### Función que genera una DNA Sequence aleatoriamente"
      ],
      "metadata": {
        "id": "zOh7Q33AwBpJ"
      }
    },
    {
      "cell_type": "code",
      "source": [
        "def random_dna_sequence(length: int = 10, include_invalid: bool = False) -> str:\n",
        "  valid_bases = ['A', 'T', 'C', 'G']\n",
        "  all_chars = list(string.ascii_letters + string.digits + string.punctuation + \" \")\n",
        "\n",
        "  seq = []\n",
        "  for _ in range(length):\n",
        "    seq.append(random.choice(valid_bases))\n",
        "\n",
        "  return ''.join(seq)"
      ],
      "metadata": {
        "id": "EUm3MruZneyD"
      },
      "execution_count": 6,
      "outputs": []
    },
    {
      "cell_type": "code",
      "source": [
        "# Ejemplo de Uso\n",
        "random_dna_sequence(length=12)"
      ],
      "metadata": {
        "colab": {
          "base_uri": "https://localhost:8080/",
          "height": 35
        },
        "id": "VuomFyRYnili",
        "outputId": "45013ea0-164b-41a8-c975-6282058eab95"
      },
      "execution_count": 7,
      "outputs": [
        {
          "output_type": "execute_result",
          "data": {
            "text/plain": [
              "'ACAAATACGTAG'"
            ],
            "application/vnd.google.colaboratory.intrinsic+json": {
              "type": "string"
            }
          },
          "metadata": {},
          "execution_count": 7
        }
      ]
    },
    {
      "cell_type": "markdown",
      "source": [
        "### Función que Genera N  random inputs"
      ],
      "metadata": {
        "id": "Xrd83LK1tRm6"
      }
    },
    {
      "cell_type": "code",
      "source": [
        "def generate_test_inputs(n: int = 100, max_len: int = 20):\n",
        "    inputs = []\n",
        "    for _ in range(n):\n",
        "        length = random.randint(0, max_len)\n",
        "        inputs.append(random_dna_sequence(length))\n",
        "    return inputs"
      ],
      "metadata": {
        "id": "QOoflMjUpKqd"
      },
      "execution_count": 8,
      "outputs": []
    },
    {
      "cell_type": "code",
      "source": [
        "# Ejemplo de Uso\n",
        "generate_test_inputs(n=10, max_len=5)"
      ],
      "metadata": {
        "colab": {
          "base_uri": "https://localhost:8080/"
        },
        "id": "dgL12kWOt9KL",
        "outputId": "59a64597-ff60-4827-a2fe-cd448cfb5152"
      },
      "execution_count": 9,
      "outputs": [
        {
          "output_type": "execute_result",
          "data": {
            "text/plain": [
              "['', 'TG', 'CCG', 'TGG', 'AG', 'TGT', 'T', 'TTC', 'GCAA', 'CTC']"
            ]
          },
          "metadata": {},
          "execution_count": 9
        }
      ]
    },
    {
      "cell_type": "markdown",
      "source": [
        "### Análisis de la Efectividad"
      ],
      "metadata": {
        "id": "XgRNpShitW5P"
      }
    },
    {
      "cell_type": "code",
      "source": [
        "average_cov = average_coverage_over_runs(analyze_dna_sequence, lambda: generate_test_inputs(n=TRIALS))\n",
        "plot_coverage_curve(average_cov, \"Random Fuzzing\")"
      ],
      "metadata": {
        "colab": {
          "base_uri": "https://localhost:8080/",
          "height": 487
        },
        "id": "oy-RTF1vpsn_",
        "outputId": "188622fa-2ea6-47b4-9cb9-8ff107eeb82c"
      },
      "execution_count": 10,
      "outputs": [
        {
          "output_type": "display_data",
          "data": {
            "text/plain": [
              "<Figure size 640x480 with 1 Axes>"
            ],
            "image/png": "[encoded data removed]"
          },
          "metadata": {}
        }
      ]
    },
    {
      "cell_type": "markdown",
      "source": [
        "# Tarea: Mutation Based Fuzzing\n"
      ],
      "metadata": {
        "id": "zGdJgWvrvUbG"
      }
    },
    {
      "cell_type": "markdown",
      "source": [
        "### Paso 1: Define 4 Mutadores o mas\n",
        "\n",
        "Los mutadores en el contexto de nuestra función a evaluar, son funciones que reciben un string de input y devuelve un string the output. El output es el mismo string de input con una pequeña variación. Por ejemplo, modificando un caracter por otro."
      ],
      "metadata": {
        "id": "BWAtIOwbwTqO"
      }
    },
    {
      "cell_type": "code",
      "source": [
        "import random\n",
        "\n",
        "VALID_BASES = ['A', 'T', 'C', 'G']\n",
        "INVALID_CHARS = list(set(string.printable) - set(\"ATCG\"))\n",
        "\n",
        "# Crea 5 mutadores, a continuación la firma que debe tener cada mutador\n",
        "# renombra los nombres de las funciones para mejorar la legilibilidad\n",
        "def shuffle_mutator(seq: str) -> str:\n",
        "  # Este mutante realiza una permutación en la cadena\n",
        "  seq_list = list(seq)\n",
        "  random.shuffle(seq_list)\n",
        "  return ''.join(seq_list)\n",
        "\n",
        "def replace_mutator(seq: str) -> str:\n",
        "  # Este mutante reemplaza aleatoriamente una base de la cadena de ADN\n",
        "  random_index = random.randint(0, len(seq) - 1)\n",
        "  original = seq[random_index]\n",
        "  valid_choice = [b for b in VALID_BASES if b != original]\n",
        "  nueva = random.choice(valid_choice)\n",
        "  seq_list = list(seq)\n",
        "  seq_list[random_index] = nueva\n",
        "  return ''.join(seq_list)\n",
        "\n",
        "\n",
        "def insert_mutator(seq: str) -> str:\n",
        "  # Este mutante añade una base válida en una posición aleatoria\n",
        "  random_index = random.randint(0, len(seq))\n",
        "  nueva = random.choice(VALID_BASES)\n",
        "  seq_list = list(seq)\n",
        "  seq_list.insert(random_index, nueva)\n",
        "  return ''.join(seq_list)\n",
        "\n",
        "\n",
        "def pop_mutator(seq: str) -> str:\n",
        "  # Este mutante quita una base de la cadena en una posición aleatoria\n",
        "  random_index = random.randint(0, len(seq) - 1)\n",
        "  seq_list = list(seq)\n",
        "  seq_list.pop(random_index)\n",
        "  return ''.join(seq_list)\n",
        "\n",
        "def invalid_mutator(seq: str) -> str:\n",
        "  # Este mutante añade un caracter inválido en la cadena\n",
        "  random_index = random.randint(0, len(seq))\n",
        "\n",
        "  nueva = random.choice(INVALID_CHARS)\n",
        "  seq_list = list(seq)\n",
        "  seq_list.insert(random_index, nueva)\n",
        "  return ''.join(seq_list)\n"
      ],
      "metadata": {
        "id": "6Y5jSsZ0vUPH"
      },
      "execution_count": 15,
      "outputs": []
    },
    {
      "cell_type": "markdown",
      "source": [
        "### Paso 2: Defina una función \"mutate_dna\"\n",
        "La función \"mutate_dna\" que reciba una secuencia de DNA (string) y aplique N mutaciones. Las mutaciones se deben aplicar una tras otra. Cada mutador debe tomar de input el resultado de la mutación anterior. El primer mutador toma de input el string recibido como argumento."
      ],
      "metadata": {
        "id": "41SHgCYwwvfb"
      }
    },
    {
      "cell_type": "code",
      "source": [
        "MUTANTS = [shuffle_mutator, replace_mutator, insert_mutator, pop_mutator, invalid_mutator]\n",
        "def mutate_dna(seq: str, num_mutations: int = 1) -> str:\n",
        "    # debe utilizar los mutadores anteriores aleatoriamente\n",
        "    # aplica num_mutations veces mutaciones al input seq\n",
        "    # las mutaciones se aplican una despues de otra.\n",
        "    mutated_seq = seq\n",
        "    for i in range(num_mutations):\n",
        "      mutant = random.choice(MUTANTS)\n",
        "      mutated_seq = mutant(mutated_seq)\n",
        "\n",
        "    return mutated_seq"
      ],
      "metadata": {
        "id": "3QFWccs0vaQO"
      },
      "execution_count": 16,
      "outputs": []
    },
    {
      "cell_type": "markdown",
      "source": [
        "## Paso 3: Defina una función \"mutation fuzz inputs\"\n",
        "\n",
        "La función \"mutation_fuzz_inputs\" debe recibir de entrada una cadena de DNA (string) que es considerada la semilla, y generar 100 inputs en base a esa semilla. Esta debe usar la función \"mutate_dna\" para tal proposito, el resultado es un alista de strings, DNA-inputs."
      ],
      "metadata": {
        "id": "mHBQ-PWDxPli"
      }
    },
    {
      "cell_type": "code",
      "source": [
        "# Esta se las dejo implementada como ayuda :)\n",
        "def mutation_fuzz_inputs(seed: str, n: int = 100, max_mutations: int = 3) -> List[str]:\n",
        "    return [mutate_dna(seed, num_mutations=random.randint(1, max_mutations)) for _ in range(n)]\n"
      ],
      "metadata": {
        "id": "opE7u3rovfzA"
      },
      "execution_count": 17,
      "outputs": []
    },
    {
      "cell_type": "markdown",
      "source": [
        "### Paso 4: Evalue su solución\n",
        "\n",
        "Si su solución es buena, la curva deberia ir creciendo. Indicando que los inputs generados se complementan en terminos de coverage, y que en conjunto son capaces de cubrir todas las lineas de la función analizada."
      ],
      "metadata": {
        "id": "EZbrsigytqwH"
      }
    },
    {
      "cell_type": "code",
      "source": [
        "seed_input = random_dna_sequence(length=12,include_invalid=True)\n",
        "\n",
        "def mutation_input_generator() -> List[str]:\n",
        "    return mutation_fuzz_inputs(seed_input, n=TRIALS, max_mutations=10)\n",
        "\n",
        "mutation_based_cov = average_coverage_over_runs(\n",
        "    test_function=analyze_dna_sequence,\n",
        "    input_generator=mutation_input_generator,\n",
        "    trials=TRIALS,\n",
        "    runs=RUNS)\n",
        "\n",
        "plot_coverage_curve(mutation_based_cov, function_name=\"analyze_dna_sequence (mutation fuzzing)\")"
      ],
      "metadata": {
        "colab": {
          "base_uri": "https://localhost:8080/",
          "height": 487
        },
        "id": "OIP-vdcIvrpV",
        "outputId": "8dbad7a3-a86e-49a6-c6c8-d1c4ee09e03e"
      },
      "execution_count": 18,
      "outputs": [
        {
          "output_type": "display_data",
          "data": {
            "text/plain": [
              "<Figure size 640x480 with 1 Axes>"
            ],
            "image/png": "[encoded data removed]"
          },
          "metadata": {}
        }
      ]
    },
    {
      "cell_type": "markdown",
      "source": [
        "## Bonus: Este código te muestra el coverage de N inputs.\n",
        "\n",
        "Puedes ver cual es el coverage de tus n inputs generado con tus mutadores. Puedes ver porque tus mutadores no llegan a cubrir todas las lineas?"
      ],
      "metadata": {
        "id": "jmfERt226KlF"
      }
    },
    {
      "cell_type": "code",
      "source": [
        "dna_squence_code = inspect.getsource(analyze_dna_sequence)\n",
        "analyze_dna_sequence_lines = [\"\"] + dna_squence_code.splitlines()\n",
        "# genero 100 inputs\n",
        "inputs = mutation_input_generator()\n",
        "all_coverage, _ = population_coverage(inputs,analyze_dna_sequence)\n",
        "# extraigo las lineas cubiertas\n",
        "line_numbers = {ln for _, ln in all_coverage}\n",
        "\n",
        "# visualizo las lineas cubiertas por los 100 inputs\n",
        "for lineno in range(1, len(analyze_dna_sequence_lines)):\n",
        "    if lineno in set(line_numbers):\n",
        "        print(\"# \", end=\"\")\n",
        "    else:\n",
        "        print(\"  \", end=\"\")\n",
        "    print(\"%2d  \" % lineno, end=\"\")\n",
        "    print_content(analyze_dna_sequence_lines[lineno], '.py')\n",
        "    print()"
      ],
      "metadata": {
        "colab": {
          "base_uri": "https://localhost:8080/"
        },
        "id": "IBft6tabyOj5",
        "outputId": "c25e3b84-dbfa-426f-a2f2-b73108e2782c"
      },
      "execution_count": 19,
      "outputs": [
        {
          "output_type": "stream",
          "name": "stdout",
          "text": [
            "   1  \u001b[34mdef\u001b[39;49;00m\u001b[37m \u001b[39;49;00m\u001b[32manalyze_dna_sequence\u001b[39;49;00m(seq: \u001b[36mstr\u001b[39;49;00m) -> \u001b[36mstr\u001b[39;49;00m:\u001b[37m\u001b[39;49;00m\n",
            "#  2      \u001b[34mif\u001b[39;49;00m \u001b[35mnot\u001b[39;49;00m seq:\u001b[37m\u001b[39;49;00m\n",
            "   3          \u001b[34mreturn\u001b[39;49;00m \u001b[33m\"\u001b[39;49;00m\u001b[33mEmpty sequence\u001b[39;49;00m\u001b[33m\"\u001b[39;49;00m\u001b[37m\u001b[39;49;00m\n",
            "   4  \u001b[37m\u001b[39;49;00m\n",
            "#  5      valid_bases = {\u001b[33m'\u001b[39;49;00m\u001b[33mA\u001b[39;49;00m\u001b[33m'\u001b[39;49;00m, \u001b[33m'\u001b[39;49;00m\u001b[33mT\u001b[39;49;00m\u001b[33m'\u001b[39;49;00m, \u001b[33m'\u001b[39;49;00m\u001b[33mC\u001b[39;49;00m\u001b[33m'\u001b[39;49;00m, \u001b[33m'\u001b[39;49;00m\u001b[33mG\u001b[39;49;00m\u001b[33m'\u001b[39;49;00m}\u001b[37m\u001b[39;49;00m\n",
            "#  6      \u001b[34mfor\u001b[39;49;00m base \u001b[35min\u001b[39;49;00m seq:\u001b[37m\u001b[39;49;00m\n",
            "#  7          \u001b[34mif\u001b[39;49;00m base \u001b[35mnot\u001b[39;49;00m \u001b[35min\u001b[39;49;00m valid_bases:\u001b[37m\u001b[39;49;00m\n",
            "#  8              \u001b[34mreturn\u001b[39;49;00m \u001b[33m\"\u001b[39;49;00m\u001b[33mInvalid DNA sequence\u001b[39;49;00m\u001b[33m\"\u001b[39;49;00m\u001b[37m\u001b[39;49;00m\n",
            "   9  \u001b[37m\u001b[39;49;00m\n",
            "# 10      gc_count = seq.count(\u001b[33m'\u001b[39;49;00m\u001b[33mG\u001b[39;49;00m\u001b[33m'\u001b[39;49;00m) + seq.count(\u001b[33m'\u001b[39;49;00m\u001b[33mC\u001b[39;49;00m\u001b[33m'\u001b[39;49;00m)\u001b[37m\u001b[39;49;00m\n",
            "# 11      gc_content = gc_count / \u001b[36mlen\u001b[39;49;00m(seq)\u001b[37m\u001b[39;49;00m\n",
            "  12  \u001b[37m\u001b[39;49;00m\n",
            "# 13      \u001b[34mif\u001b[39;49;00m gc_content > \u001b[34m0.6\u001b[39;49;00m:\u001b[37m\u001b[39;49;00m\n",
            "# 14          \u001b[34mreturn\u001b[39;49;00m \u001b[33m\"\u001b[39;49;00m\u001b[33mHigh GC content\u001b[39;49;00m\u001b[33m\"\u001b[39;49;00m\u001b[37m\u001b[39;49;00m\n",
            "# 15      \u001b[34melif\u001b[39;49;00m gc_content < \u001b[34m0.4\u001b[39;49;00m:\u001b[37m\u001b[39;49;00m\n",
            "# 16          \u001b[34mreturn\u001b[39;49;00m \u001b[33m\"\u001b[39;49;00m\u001b[33mLow GC content\u001b[39;49;00m\u001b[33m\"\u001b[39;49;00m\u001b[37m\u001b[39;49;00m\n",
            "  17      \u001b[34melse\u001b[39;49;00m:\u001b[37m\u001b[39;49;00m\n",
            "# 18          \u001b[34mreturn\u001b[39;49;00m \u001b[33m\"\u001b[39;49;00m\u001b[33mNormal GC content\u001b[39;49;00m\u001b[33m\"\u001b[39;49;00m\u001b[37m\u001b[39;49;00m\n"
          ]
        }
      ]
    },
    {
      "cell_type": "markdown",
      "source": [],
      "metadata": {
        "id": "opH4lC-Tywgt"
      }
    }
  ]
}